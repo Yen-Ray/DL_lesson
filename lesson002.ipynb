{
 "nbformat": 4,
 "nbformat_minor": 0,
 "metadata": {
  "colab": {
   "name": "lesson002.ipynb",
   "provenance": [],
   "authorship_tag": "ABX9TyPh5KdWOFbjC7DN0I5BLDEE"
  },
  "kernelspec": {
   "name": "python3",
   "display_name": "Python 3"
  },
  "language_info": {
   "name": "python"
  }
 },
 "cells": [
  {
   "cell_type": "code",
   "metadata": {
    "colab": {
     "base_uri": "https://localhost:8080/"
    },
    "id": "r9ejGaAVAoDU",
    "executionInfo": {
     "status": "ok",
     "timestamp": 1637575135977,
     "user_tz": -480,
     "elapsed": 272,
     "user": {
      "displayName": "林彥瑞",
      "photoUrl": "https://lh3.googleusercontent.com/a-/AOh14GjhMrPvenFD6efEUbm0-9XMLi-VM9HiMcUngiO3jA=s64",
      "userId": "13637493638608463960"
     }
    },
    "outputId": "3ee2199c-fbf3-4a4a-e5c6-58e46e40125e"
   },
   "source": [
    "from google.colab import drive\n",
    "drive.mount('/content/drive')"
   ],
   "execution_count": 1,
   "outputs": [
    {
     "output_type": "stream",
     "name": "stdout",
     "text": [
      "Drive already mounted at /content/drive; to attempt to forcibly remount, call drive.mount(\"/content/drive\", force_remount=True).\n"
     ]
    }
   ]
  },
  {
   "cell_type": "code",
   "metadata": {
    "colab": {
     "base_uri": "https://localhost:8080/"
    },
    "id": "xHR3W476p423",
    "executionInfo": {
     "status": "ok",
     "timestamp": 1637575136425,
     "user_tz": -480,
     "elapsed": 4,
     "user": {
      "displayName": "林彥瑞",
      "photoUrl": "https://lh3.googleusercontent.com/a-/AOh14GjhMrPvenFD6efEUbm0-9XMLi-VM9HiMcUngiO3jA=s64",
      "userId": "13637493638608463960"
     }
    },
    "outputId": "ff54718d-6006-432d-f425-0015407c1c3f"
   },
   "source": [
    "from pathlib import Path\n",
    "\n",
    "model_path = '/content/drive/MyDrive/model_result'\n",
    "\n",
    "def check_save_folder(input_path: Path) -> None:\n",
    "    input_path.resolve().mkdir(parents=True, exist_ok=True)\n",
    "    print(f'確認存檔路徑: {input_path.resolve()}')\n",
    "\n",
    "check_save_folder(Path(model_path))"
   ],
   "execution_count": 2,
   "outputs": [
    {
     "output_type": "stream",
     "name": "stdout",
     "text": [
      "確認存檔路徑: /content/drive/MyDrive/model_result\n"
     ]
    }
   ]
  },
  {
   "cell_type": "markdown",
   "metadata": {
    "id": "mOzRHqaXF2vT"
   },
   "source": [
    "# 安裝 pip install scikit-plot\n"
   ]
  },
  {
   "cell_type": "code",
   "metadata": {
    "colab": {
     "base_uri": "https://localhost:8080/"
    },
    "id": "ise9aJWNF3ZR",
    "executionInfo": {
     "status": "ok",
     "timestamp": 1637575139769,
     "user_tz": -480,
     "elapsed": 3346,
     "user": {
      "displayName": "林彥瑞",
      "photoUrl": "https://lh3.googleusercontent.com/a-/AOh14GjhMrPvenFD6efEUbm0-9XMLi-VM9HiMcUngiO3jA=s64",
      "userId": "13637493638608463960"
     }
    },
    "outputId": "44b6fe2e-b5b6-4bd3-9ebe-22f2e9f2af2d"
   },
   "source": [
    "!pip install scikit-plot"
   ],
   "execution_count": 3,
   "outputs": [
    {
     "output_type": "stream",
     "name": "stdout",
     "text": [
      "Requirement already satisfied: scikit-plot in /usr/local/lib/python3.7/dist-packages (0.3.7)\n",
      "Requirement already satisfied: scipy>=0.9 in /usr/local/lib/python3.7/dist-packages (from scikit-plot) (1.4.1)\n",
      "Requirement already satisfied: matplotlib>=1.4.0 in /usr/local/lib/python3.7/dist-packages (from scikit-plot) (3.2.2)\n",
      "Requirement already satisfied: joblib>=0.10 in /usr/local/lib/python3.7/dist-packages (from scikit-plot) (1.1.0)\n",
      "Requirement already satisfied: scikit-learn>=0.18 in /usr/local/lib/python3.7/dist-packages (from scikit-plot) (1.0.1)\n",
      "Requirement already satisfied: cycler>=0.10 in /usr/local/lib/python3.7/dist-packages (from matplotlib>=1.4.0->scikit-plot) (0.11.0)\n",
      "Requirement already satisfied: pyparsing!=2.0.4,!=2.1.2,!=2.1.6,>=2.0.1 in /usr/local/lib/python3.7/dist-packages (from matplotlib>=1.4.0->scikit-plot) (3.0.6)\n",
      "Requirement already satisfied: kiwisolver>=1.0.1 in /usr/local/lib/python3.7/dist-packages (from matplotlib>=1.4.0->scikit-plot) (1.3.2)\n",
      "Requirement already satisfied: python-dateutil>=2.1 in /usr/local/lib/python3.7/dist-packages (from matplotlib>=1.4.0->scikit-plot) (2.8.2)\n",
      "Requirement already satisfied: numpy>=1.11 in /usr/local/lib/python3.7/dist-packages (from matplotlib>=1.4.0->scikit-plot) (1.19.5)\n",
      "Requirement already satisfied: six>=1.5 in /usr/local/lib/python3.7/dist-packages (from python-dateutil>=2.1->matplotlib>=1.4.0->scikit-plot) (1.15.0)\n",
      "Requirement already satisfied: threadpoolctl>=2.0.0 in /usr/local/lib/python3.7/dist-packages (from scikit-learn>=0.18->scikit-plot) (3.0.0)\n"
     ]
    }
   ]
  },
  {
   "cell_type": "markdown",
   "metadata": {
    "id": "s8kwGax1GEMh"
   },
   "source": [
    "# 建立 transform"
   ]
  },
  {
   "cell_type": "code",
   "metadata": {
    "id": "Z3rFQKvgDIcN",
    "executionInfo": {
     "status": "ok",
     "timestamp": 1637575141197,
     "user_tz": -480,
     "elapsed": 1431,
     "user": {
      "displayName": "林彥瑞",
      "photoUrl": "https://lh3.googleusercontent.com/a-/AOh14GjhMrPvenFD6efEUbm0-9XMLi-VM9HiMcUngiO3jA=s64",
      "userId": "13637493638608463960"
     }
    }
   },
   "source": [
    "import torchvision.transforms as transforms\n",
    "\n",
    "training_transfrom = transforms.Compose([\n",
    "  transforms.ToTensor(),\n",
    "  transforms.RandomResizedCrop((256, 256), \n",
    "                              scale=(0.92, 1.0),\n",
    "                              ratio=(1.0, 1.0), \n",
    "                              interpolation=transforms.InterpolationMode.NEAREST),\n",
    "  transforms.RandomPerspective(distortion_scale=0.2, p=0.5, \n",
    "                              interpolation=transforms.InterpolationMode.NEAREST),\n",
    "  transforms.RandomRotation(20, interpolation=transforms.InterpolationMode.NEAREST),\n",
    "  transforms.RandomHorizontalFlip(),\n",
    "  transforms.RandomVerticalFlip(),\n",
    "  transforms.ColorJitter(brightness=0.2, contrast=0.5),\n",
    "  \n",
    "])\n",
    "\n",
    "valid_transform = transforms.Compose([transforms.ToTensor(),\n",
    "                                    transforms.Resize((256, 256))])"
   ],
   "execution_count": 4,
   "outputs": []
  },
  {
   "cell_type": "markdown",
   "metadata": {
    "id": "Vv7OMXELGIXL"
   },
   "source": [
    "# 讀取資料集"
   ]
  },
  {
   "cell_type": "code",
   "metadata": {
    "id": "SHi1SCS4As93",
    "executionInfo": {
     "status": "ok",
     "timestamp": 1637575141197,
     "user_tz": -480,
     "elapsed": 12,
     "user": {
      "displayName": "林彥瑞",
      "photoUrl": "https://lh3.googleusercontent.com/a-/AOh14GjhMrPvenFD6efEUbm0-9XMLi-VM9HiMcUngiO3jA=s64",
      "userId": "13637493638608463960"
     }
    }
   },
   "source": [
    "from torchvision.datasets import ImageFolder\n",
    "\n",
    "\n",
    "img_dataset = ImageFolder(root='/content/drive/MyDrive/lesson_dataset',\n",
    "                          transform=training_transfrom\n",
    "                          )"
   ],
   "execution_count": 5,
   "outputs": []
  },
  {
   "cell_type": "markdown",
   "metadata": {
    "id": "llmqlYO1GNxb"
   },
   "source": [
    "# 拆分資料集 \n",
    "- 訓練集, 驗證集, 測試集\n"
   ]
  },
  {
   "cell_type": "code",
   "metadata": {
    "colab": {
     "base_uri": "https://localhost:8080/"
    },
    "id": "wyRgGQa6AtV8",
    "executionInfo": {
     "status": "ok",
     "timestamp": 1637575141197,
     "user_tz": -480,
     "elapsed": 11,
     "user": {
      "displayName": "林彥瑞",
      "photoUrl": "https://lh3.googleusercontent.com/a-/AOh14GjhMrPvenFD6efEUbm0-9XMLi-VM9HiMcUngiO3jA=s64",
      "userId": "13637493638608463960"
     }
    },
    "outputId": "1a3ec9d9-6436-42cd-9d8d-7dd01ef4fce5"
   },
   "source": [
    "import torch\n",
    "from torch.utils.data import random_split\n",
    "from typing import Tuple\n",
    "import copy\n",
    "\n",
    "def get_data_group_number(data_number: int,\n",
    "                          train_set_ratio: float = 0.6) -> Tuple[int, int, int]:\n",
    "    valid_size = int(data_number * ((1 - train_set_ratio) / 2))\n",
    "    test_size = valid_size\n",
    "    train_size = data_number - valid_size - test_size\n",
    "    print(f'train_size:{train_size}, '\n",
    "          f'valid_size:{valid_size}, '\n",
    "          f'test_size:{test_size}')\n",
    "    return train_size, valid_size, test_size\n",
    "\n",
    "\n",
    "train_size, valid_size, test_size = get_data_group_number(len(img_dataset), 0.6)\n",
    "\n",
    "train_dataset, valid_dataset, test_dataset = random_split(img_dataset, \n",
    "                                                          [train_size, valid_size, test_size],\n",
    "                                                          torch.Generator().manual_seed(42)\n",
    "                                                          )\n",
    "\n",
    "original_train_dataset = copy.deepcopy(train_dataset)\n",
    "\n",
    "valid_dataset.dataset.transform = valid_transform\n",
    "test_dataset.dataset.transform = valid_transform\n",
    "\n",
    "print(valid_dataset.dataset.transform)"
   ],
   "execution_count": 6,
   "outputs": [
    {
     "output_type": "stream",
     "name": "stdout",
     "text": [
      "train_size:60, valid_size:20, test_size:20\n",
      "Compose(\n",
      "    ToTensor()\n",
      "    Resize(size=(256, 256), interpolation=bilinear, max_size=None, antialias=None)\n",
      ")\n"
     ]
    }
   ]
  },
  {
   "cell_type": "code",
   "metadata": {
    "colab": {
     "base_uri": "https://localhost:8080/"
    },
    "id": "dq2gm1arCYEN",
    "executionInfo": {
     "status": "ok",
     "timestamp": 1637575141198,
     "user_tz": -480,
     "elapsed": 11,
     "user": {
      "displayName": "林彥瑞",
      "photoUrl": "https://lh3.googleusercontent.com/a-/AOh14GjhMrPvenFD6efEUbm0-9XMLi-VM9HiMcUngiO3jA=s64",
      "userId": "13637493638608463960"
     }
    },
    "outputId": "ebd8203b-cdd8-4526-dfba-920352c1ad3c"
   },
   "source": [
    "print(f'替換 transform 後\\n{train_dataset.dataset.transform}\\n')\n",
    "\n",
    "print(f'原始 transform \\n{original_train_dataset.dataset.transform}')"
   ],
   "execution_count": 7,
   "outputs": [
    {
     "output_type": "stream",
     "name": "stdout",
     "text": [
      "替換 transform 後\n",
      "Compose(\n",
      "    ToTensor()\n",
      "    Resize(size=(256, 256), interpolation=bilinear, max_size=None, antialias=None)\n",
      ")\n",
      "\n",
      "原始 transform \n",
      "Compose(\n",
      "    ToTensor()\n",
      "    RandomResizedCrop(size=(256, 256), scale=(0.92, 1.0), ratio=(1.0, 1.0), interpolation=nearest)\n",
      "    RandomPerspective(p=0.5)\n",
      "    RandomRotation(degrees=[-20.0, 20.0], interpolation=nearest, expand=False, fill=0)\n",
      "    RandomHorizontalFlip(p=0.5)\n",
      "    RandomVerticalFlip(p=0.5)\n",
      "    ColorJitter(brightness=[0.8, 1.2], contrast=[0.5, 1.5], saturation=None, hue=None)\n",
      ")\n"
     ]
    }
   ]
  },
  {
   "cell_type": "markdown",
   "metadata": {
    "id": "KgtOFv4ej0va"
   },
   "source": [
    "## 統計各資料組別的樣本數量"
   ]
  },
  {
   "cell_type": "code",
   "metadata": {
    "colab": {
     "base_uri": "https://localhost:8080/"
    },
    "id": "IEA1MbP5jR6B",
    "executionInfo": {
     "status": "ok",
     "timestamp": 1637575141198,
     "user_tz": -480,
     "elapsed": 9,
     "user": {
      "displayName": "林彥瑞",
      "photoUrl": "https://lh3.googleusercontent.com/a-/AOh14GjhMrPvenFD6efEUbm0-9XMLi-VM9HiMcUngiO3jA=s64",
      "userId": "13637493638608463960"
     }
    },
    "outputId": "4fb16703-6063-4099-a950-89e7be78f735"
   },
   "source": [
    "from torch.utils.data.dataset import Subset\n",
    "\n",
    "def count_class_in_set(input_dataset: Subset) -> Tuple[dict, dict]:\n",
    "    \"\"\"\n",
    "\n",
    "    :param input_dataset:  傳入已經透過 Subset 分割好的資料\n",
    "    target_folder_as_class 將會透過圖片的上層資料夾名稱作為圖片類別，統計使用數量\n",
    "    資料夾目錄結構\n",
    "      root-\n",
    "            -A\n",
    "                -num1\n",
    "                    -.png\n",
    "                    -.png\n",
    "            -B\n",
    "                -num2\n",
    "                    -.png\n",
    "    target_folder_as_class = ['num1','num1','num2']\n",
    "\n",
    "    :return: 1.透過圖片上層 [num1,num2] 資料夾統計 num1 跟 num2 個別圖片使用數量,\n",
    "             2.透過 root 內的 [A,B] 資料夾統計 A 跟 B 個別使用圖片數量\n",
    "    \"\"\"\n",
    "\n",
    "    target_folder_as_class = [Path(input_dataset.dataset.imgs[index][0]).parent.name for index in input_dataset.indices]\n",
    "    target_class_name = sorted(list(set(target_folder_as_class)))\n",
    "    pic_class_num_dict = {}\n",
    "    for cls_name in target_class_name:\n",
    "        pic_class_num_dict[cls_name] = target_folder_as_class.count(cls_name)\n",
    "\n",
    "    data_class_label = [input_dataset.dataset.targets[index] for index in input_dataset.indices]\n",
    "    class_label_name = list(set(data_class_label))\n",
    "    class_label_num_dict = {}\n",
    "\n",
    "    for label_name in class_label_name:\n",
    "        class_label_num_dict[label_name] = data_class_label.count(label_name)\n",
    "\n",
    "    return pic_class_num_dict, class_label_num_dict\n",
    "\n",
    "print(count_class_in_set(train_dataset))\n",
    "print(count_class_in_set(valid_dataset))\n",
    "print(count_class_in_set(test_dataset))"
   ],
   "execution_count": 8,
   "outputs": [
    {
     "output_type": "stream",
     "name": "stdout",
     "text": [
      "({'monitor': 24, 'mouse': 19, 'mug': 17}, {0: 24, 1: 19, 2: 17})\n",
      "({'monitor': 9, 'mouse': 6, 'mug': 5}, {0: 9, 1: 6, 2: 5})\n",
      "({'monitor': 10, 'mouse': 5, 'mug': 5}, {0: 10, 1: 5, 2: 5})\n"
     ]
    }
   ]
  },
  {
   "cell_type": "markdown",
   "metadata": {
    "id": "w2Iv2QKPXV38"
   },
   "source": [
    "# 建立資料DataLoader"
   ]
  },
  {
   "cell_type": "code",
   "metadata": {
    "id": "zi1VyI42Atac",
    "executionInfo": {
     "status": "ok",
     "timestamp": 1637575141198,
     "user_tz": -480,
     "elapsed": 8,
     "user": {
      "displayName": "林彥瑞",
      "photoUrl": "https://lh3.googleusercontent.com/a-/AOh14GjhMrPvenFD6efEUbm0-9XMLi-VM9HiMcUngiO3jA=s64",
      "userId": "13637493638608463960"
     }
    }
   },
   "source": [
    "from torch.utils.data import DataLoader\n",
    "\n",
    "batch_size = 4\n",
    "\n",
    "trainset_loader = DataLoader(\n",
    "      dataset=original_train_dataset,\n",
    "      num_workers=2,\n",
    "      batch_size=batch_size,\n",
    "      shuffle=True\n",
    "    )\n",
    "\n",
    "validset_loader = DataLoader(\n",
    "      dataset=valid_dataset,\n",
    "      num_workers=2,\n",
    "      batch_size=batch_size,\n",
    "      shuffle=True\n",
    "    )\n",
    "\n",
    "testset_loader = DataLoader(\n",
    "      dataset=test_dataset,\n",
    "      num_workers=2,\n",
    "      batch_size=batch_size,\n",
    "      shuffle=True\n",
    "    )"
   ],
   "execution_count": 9,
   "outputs": []
  },
  {
   "cell_type": "markdown",
   "metadata": {
    "id": "fpEuP5c7XPb2"
   },
   "source": [
    "# 建立硬體檢查"
   ]
  },
  {
   "cell_type": "code",
   "metadata": {
    "colab": {
     "base_uri": "https://localhost:8080/"
    },
    "id": "N2JcZl3KFzvo",
    "executionInfo": {
     "status": "ok",
     "timestamp": 1637575141198,
     "user_tz": -480,
     "elapsed": 8,
     "user": {
      "displayName": "林彥瑞",
      "photoUrl": "https://lh3.googleusercontent.com/a-/AOh14GjhMrPvenFD6efEUbm0-9XMLi-VM9HiMcUngiO3jA=s64",
      "userId": "13637493638608463960"
     }
    },
    "outputId": "4e3e156e-0680-4ec6-f04d-ae31bb7c4fdd"
   },
   "source": [
    "def device_setter() -> torch.device:\n",
    "    return torch.device(f'cuda:0' if torch.cuda.is_available() else 'cpu')\n",
    "\n",
    "device_setter()"
   ],
   "execution_count": 10,
   "outputs": [
    {
     "output_type": "execute_result",
     "data": {
      "text/plain": [
       "device(type='cpu')"
      ]
     },
     "metadata": {},
     "execution_count": 10
    }
   ]
  },
  {
   "cell_type": "markdown",
   "metadata": {
    "id": "DmXI7_8xIHjs"
   },
   "source": [
    "# 建立模型, Resnet18"
   ]
  },
  {
   "cell_type": "code",
   "metadata": {
    "id": "yGZFKPFhIGnj"
   },
   "source": [
    "from torchvision.models import resnet\n",
    "import torch.nn as nn\n",
    "\n",
    "num_classes = 3\n",
    "\n",
    "# model = resnet.resnet18(num_classes=num_classes)\n",
    "model = resnet.resnet18(pretrained=True).to(device = device_setter())\n",
    "model.fc = nn.Linear(model.fc.in_features, num_classes)\n",
    "\n",
    "print(model)"
   ],
   "execution_count": null,
   "outputs": []
  },
  {
   "cell_type": "markdown",
   "metadata": {
    "id": "4iEhQjhDHfXs"
   },
   "source": [
    "# 建立訓練流程\n"
   ]
  },
  {
   "cell_type": "code",
   "metadata": {
    "id": "Iof-HWgdHf6h",
    "executionInfo": {
     "status": "ok",
     "timestamp": 1637575141622,
     "user_tz": -480,
     "elapsed": 1,
     "user": {
      "displayName": "林彥瑞",
      "photoUrl": "https://lh3.googleusercontent.com/a-/AOh14GjhMrPvenFD6efEUbm0-9XMLi-VM9HiMcUngiO3jA=s64",
      "userId": "13637493638608463960"
     }
    }
   },
   "source": [
    "def train(trainset_loader, \n",
    "          validset_loader, \n",
    "          testset_loader, \n",
    "          model, \n",
    "          criterion, \n",
    "          optimizer, \n",
    "          learning_rate, \n",
    "          epoch: int, \n",
    "          device: torch.device,\n",
    "          max_avg_f1_score: float,\n",
    "          model_path: str):\n",
    "  \n",
    "  model.train()\n",
    "\n",
    "  for training_epoch in range(epoch):\n",
    "\n",
    "      running_loss = 0.0\n",
    "      total_img_num = 0\n",
    "\n",
    "      for iteration_num, (input_data, data_label) in enumerate(trainset_loader):\n",
    "          \n",
    "          total_img_num += input_data.size(0)\n",
    "\n",
    "          input_data, data_label = input_data.to(device), data_label.to(device)\n",
    "\n",
    "          \n",
    "          with torch.set_grad_enabled(True):\n",
    "\n",
    "              optimizer.zero_grad()\n",
    "\n",
    "              outputs = model(input_data)\n",
    "\n",
    "              loss = criterion(outputs, data_label)\n",
    "\n",
    "              loss.backward()\n",
    "\n",
    "              optimizer.step()\n",
    "\n",
    "          running_loss += loss.item() * input_data.size(0)\n",
    "\n",
    "      learning_rate.step()\n",
    "\n",
    "\n",
    "      report, cm_result, auc_result, avg_f1_score, eval_loss = eval_model(validset_loader, model, criterion, device)\n",
    "      \n",
    "      print(f'epoch: {training_epoch + 1}/{epoch}', \n",
    "        f'learning_rate: {learning_rate.get_last_lr()}, '\n",
    "        f'train loss: {running_loss / total_img_num:.4f}, '\n",
    "        f'eval loss: {eval_loss:.4f}')\n",
    "\n",
    "      if avg_f1_score >= max_avg_f1_score:\n",
    "          max_avg_f1_score = avg_f1_score\n",
    "\n",
    "          save_model(model = model,\n",
    "                    max_avg_f1_score = max_avg_f1_score,\n",
    "                    save_path = f'{model_path}/model_weight_best.pkl')\n",
    "          \n",
    "      save_model(model = model,\n",
    "                  max_avg_f1_score = max_avg_f1_score,\n",
    "                  save_path = f'{model_path}/model_weight.pkl')    \n",
    "      \n",
    "      \n",
    "\n",
    "      \n",
    "      "
   ],
   "execution_count": 12,
   "outputs": []
  },
  {
   "cell_type": "markdown",
   "metadata": {
    "id": "enDJtoxqUg50"
   },
   "source": [
    "# 建立驗證流程"
   ]
  },
  {
   "cell_type": "code",
   "metadata": {
    "id": "PCDCaqLjR1Jb",
    "executionInfo": {
     "status": "ok",
     "timestamp": 1637577105492,
     "user_tz": -480,
     "elapsed": 290,
     "user": {
      "displayName": "林彥瑞",
      "photoUrl": "https://lh3.googleusercontent.com/a-/AOh14GjhMrPvenFD6efEUbm0-9XMLi-VM9HiMcUngiO3jA=s64",
      "userId": "13637493638608463960"
     }
    }
   },
   "source": [
    "def eval_model(data_loader, model, criterion, device: torch.device):\n",
    "    model.eval()\n",
    "    predict_np = None\n",
    "    true_label_np = None\n",
    "    predict_prob_np = None\n",
    "    total_img_num = 0\n",
    "    running_loss = 0.0\n",
    "\n",
    "    for iteration_num, (input_data, data_label) in enumerate(data_loader):\n",
    "\n",
    "        total_img_num += input_data.size(0)\n",
    "\n",
    "        input_data, data_label = input_data.to(device), data_label.to(device)\n",
    "        \n",
    "\n",
    "        with torch.set_grad_enabled(False):\n",
    "\n",
    "            outputs = model(input_data)\n",
    "\n",
    "            predict_prob_to_cpu = torch.softmax(outputs.detach().cpu(), dim=1)\n",
    "\n",
    "            max_prob_value, predict_cls = torch.max(predict_prob_to_cpu, 1)\n",
    "            print(predict_prob_to_cpu)\n",
    "            print(data_label)\n",
    "            print(max_prob_value)\n",
    "            print(predict_cls)\n",
    "\n",
    "            predict_cls_serial = predict_cls.cpu().reshape(-1)\n",
    "\n",
    "            true_cls_serial = data_label.cpu().squeeze().reshape(-1)\n",
    "\n",
    "            loss = criterion(outputs, data_label)\n",
    "\n",
    "            running_loss += loss.item() * input_data.size(0)\n",
    "\n",
    "        if predict_np is None:\n",
    "\n",
    "            predict_np = predict_cls_serial\n",
    "            true_label_np = true_cls_serial\n",
    "            predict_prob_np = predict_prob_to_cpu\n",
    "\n",
    "        else:\n",
    "            predict_np = np.concatenate((predict_np, predict_cls_serial), axis=0)\n",
    "            true_label_np = np.concatenate((true_label_np, true_cls_serial), axis=0)\n",
    "            predict_prob_np = np.concatenate((predict_prob_np, predict_prob_to_cpu), axis=0)\n",
    "\n",
    "    report, report_dict, cm_result = confusion_metrics(y_true=true_label_np, y_pred=predict_np,\n",
    "                                      target_names=data_loader.dataset.dataset.classes,\n",
    "                                      digits=4,\n",
    "                                      output_dict=True,\n",
    "                                      labels=np.unique(true_label_np))\n",
    "    \n",
    "    average_f1_score = report_dict['macro avg']['f1-score']\n",
    "\n",
    "    auc_result = calculate_auc(y_true=true_label_np,\n",
    "                               predict_prob=predict_prob_np)\n",
    "    \n",
    "    \n",
    "    print(f'Metrics\\n{report}\\n',\n",
    "          f'Confusion matrix\\n{cm_result}\\n',\n",
    "          f'Average auroc: {auc_result}\\n',\n",
    "          f'Average f1-score: {average_f1_score}\\n')\n",
    "    \n",
    "    plot_confusion_matrix(cm_result)\n",
    "\n",
    "    import scikitplot as skplt\n",
    "    skplt.metrics.plot_roc(y_true=true_label_np, \n",
    "                y_probas=predict_prob_np, \n",
    "                plot_micro=True, \n",
    "                plot_macro=True)\n",
    "    skplt.metrics.plot_precision_recall(y_true=true_label_np, \n",
    "                y_probas=predict_prob_np)\n",
    "\n",
    "    eval_loss = running_loss / total_img_num\n",
    "\n",
    "    return report, cm_result, auc_result, average_f1_score, eval_loss\n"
   ],
   "execution_count": 36,
   "outputs": []
  },
  {
   "cell_type": "markdown",
   "metadata": {
    "id": "YvnIaN7IUrFH"
   },
   "source": [
    "# 透過 sklearn.metrics 衡量模型效能"
   ]
  },
  {
   "cell_type": "code",
   "metadata": {
    "id": "lH9WUB7MVQ8e",
    "executionInfo": {
     "status": "ok",
     "timestamp": 1637575142023,
     "user_tz": -480,
     "elapsed": 402,
     "user": {
      "displayName": "林彥瑞",
      "photoUrl": "https://lh3.googleusercontent.com/a-/AOh14GjhMrPvenFD6efEUbm0-9XMLi-VM9HiMcUngiO3jA=s64",
      "userId": "13637493638608463960"
     }
    }
   },
   "source": [
    "from sklearn.metrics import roc_curve, auc\n",
    "from sklearn.metrics import confusion_matrix, classification_report\n",
    "import numpy as np"
   ],
   "execution_count": 14,
   "outputs": []
  },
  {
   "cell_type": "markdown",
   "metadata": {
    "id": "pvYno6QPVnly"
   },
   "source": [
    "## 混淆矩陣\n"
   ]
  },
  {
   "cell_type": "code",
   "metadata": {
    "id": "8RfxX0w-Vm-z",
    "executionInfo": {
     "status": "ok",
     "timestamp": 1637575142024,
     "user_tz": -480,
     "elapsed": 5,
     "user": {
      "displayName": "林彥瑞",
      "photoUrl": "https://lh3.googleusercontent.com/a-/AOh14GjhMrPvenFD6efEUbm0-9XMLi-VM9HiMcUngiO3jA=s64",
      "userId": "13637493638608463960"
     }
    }
   },
   "source": [
    "def calculate_auc(y_true: np.ndarray, predict_prob: np.ndarray):\n",
    "    if len(np.unique(y_true)) > 2:\n",
    "        return multi_classification(y_true=y_true, predict_prob=predict_prob)\n",
    "\n",
    "    return sklearn_auc(y_true=y_true, predict_prob=predict_prob)\n",
    "    \n",
    "def confusion_metrics(y_true: np.ndarray,\n",
    "                      y_pred: np.ndarray,\n",
    "                      target_names: list,\n",
    "                      digits: int = 2,\n",
    "                      output_dict: bool = False,\n",
    "                      labels: np.ndarray = None,\n",
    "                      zero_division=0) -> Tuple[dict, np.ndarray]:\n",
    "\n",
    "    report = classification_report(y_true=y_true, y_pred=y_pred,\n",
    "                                   target_names=target_names,\n",
    "                                   digits=digits,\n",
    "                                   output_dict=False,\n",
    "                                   labels=np.unique(labels),\n",
    "                                   zero_division=zero_division,\n",
    "                                   )\n",
    "    report_dict = classification_report(y_true=y_true, y_pred=y_pred,\n",
    "                                   target_names=target_names,\n",
    "                                   digits=digits,\n",
    "                                   output_dict=output_dict,\n",
    "                                   labels=np.unique(labels),\n",
    "                                   zero_division=zero_division,\n",
    "                                   )\n",
    "    \n",
    "    cm_result = confusion_matrix(y_true=y_true,\n",
    "                                 y_pred=y_pred,\n",
    "                                 labels=np.unique(labels))\n",
    "    return report, report_dict, cm_result"
   ],
   "execution_count": 15,
   "outputs": []
  },
  {
   "cell_type": "markdown",
   "metadata": {
    "id": "_9Bh2t-cVr1N"
   },
   "source": [
    "## AUC"
   ]
  },
  {
   "cell_type": "code",
   "metadata": {
    "id": "yMRl3hnxVwYt",
    "executionInfo": {
     "status": "ok",
     "timestamp": 1637575142024,
     "user_tz": -480,
     "elapsed": 5,
     "user": {
      "displayName": "林彥瑞",
      "photoUrl": "https://lh3.googleusercontent.com/a-/AOh14GjhMrPvenFD6efEUbm0-9XMLi-VM9HiMcUngiO3jA=s64",
      "userId": "13637493638608463960"
     }
    }
   },
   "source": [
    "def sklearn_auc(y_true: np.ndarray, predict_prob: np.ndarray) -> float:\n",
    "    fpr, tpr, threshold = roc_curve(y_true, predict_prob)\n",
    "    return auc(fpr, tpr)\n",
    "\n",
    "def multi_classification(y_true: np.ndarray,\n",
    "                         predict_prob: np.ndarray):\n",
    "    \"\"\"\n",
    "    roc 只支援兩類計算, 所以需要對輸入進行 binarize 轉換\n",
    "\n",
    "    numpy 說明\n",
    "    a = [[0,1,5],\n",
    "         [1,2,3]]\n",
    "    a[:,1] = [1,2]\n",
    "\n",
    "    若目前是3類, 則輸出會如以下形式\n",
    "        binarize 前類別如下:\n",
    "            [0,1,2]\n",
    "        binarize 後:\n",
    "            [[1,0,0],[0,1,0],[0,0,1]]\n",
    "    \"\"\"\n",
    "    class_list = np.unique(y_true)\n",
    "    from sklearn.preprocessing import label_binarize\n",
    "    y_true_after_binarize = label_binarize(y_true, classes=class_list)\n",
    "\n",
    "    total_auc = 0\n",
    "    for class_index in class_list:\n",
    "        auc_result = sklearn_auc(y_true=y_true_after_binarize[:, class_index],\n",
    "                                 predict_prob=predict_prob[:, class_index])\n",
    "        print(f'{class_index} auc_roc: {auc_result:.5f}')\n",
    "        total_auc += auc_result\n",
    "    return total_auc / len(class_list)"
   ],
   "execution_count": 16,
   "outputs": []
  },
  {
   "cell_type": "markdown",
   "metadata": {
    "id": "yzPV-gL8bJpm"
   },
   "source": [
    "## 建立繪製混淆矩陣函式"
   ]
  },
  {
   "cell_type": "code",
   "metadata": {
    "id": "OUbpg_6XbKCt",
    "executionInfo": {
     "status": "ok",
     "timestamp": 1637575142024,
     "user_tz": -480,
     "elapsed": 5,
     "user": {
      "displayName": "林彥瑞",
      "photoUrl": "https://lh3.googleusercontent.com/a-/AOh14GjhMrPvenFD6efEUbm0-9XMLi-VM9HiMcUngiO3jA=s64",
      "userId": "13637493638608463960"
     }
    }
   },
   "source": [
    "import matplotlib.pyplot as plt\n",
    "\n",
    "def plot_confusion_matrix(cm_matrix: np.ndarray):\n",
    "\n",
    "    thresh = cm_matrix.max() / 2\n",
    "\n",
    "    plt.matshow(cm_matrix)\n",
    "\n",
    "    for axis_0 in range(cm_matrix.shape[0]):\n",
    "\n",
    "        for axis_1 in range(cm_matrix.shape[1]):\n",
    "\n",
    "            if cm_matrix[axis_0, axis_1] > 0:\n",
    "\n",
    "                plt.text(x=axis_1, y=axis_0, s=cm_matrix[axis_0, axis_1],\n",
    "                         horizontalalignment=\"center\",\n",
    "                         verticalalignment='center',\n",
    "                         color=\"white\" if cm_matrix[axis_0, axis_1] < thresh else \"black\",\n",
    "                         fontsize=45)\n",
    "\n",
    "    plt.show()"
   ],
   "execution_count": 17,
   "outputs": []
  },
  {
   "cell_type": "markdown",
   "metadata": {
    "id": "_Th235kJkNEw"
   },
   "source": [
    "# 模型存檔"
   ]
  },
  {
   "cell_type": "code",
   "metadata": {
    "id": "6jEIEf4UkNny",
    "executionInfo": {
     "status": "ok",
     "timestamp": 1637575142024,
     "user_tz": -480,
     "elapsed": 4,
     "user": {
      "displayName": "林彥瑞",
      "photoUrl": "https://lh3.googleusercontent.com/a-/AOh14GjhMrPvenFD6efEUbm0-9XMLi-VM9HiMcUngiO3jA=s64",
      "userId": "13637493638608463960"
     }
    }
   },
   "source": [
    "def save_model(model, max_avg_f1_score, save_path: str):\n",
    "    torch.save({\"model_state\": model.state_dict(),\n",
    "                \"max_avg_f1_score\": max_avg_f1_score\n",
    "                },\n",
    "               save_path)\n",
    "\n",
    "    if 'best' in save_path:\n",
    "        print(\"儲存最佳 f1_score 權重...\")\n",
    "        return\n",
    "    print(\"儲存權重...\")"
   ],
   "execution_count": 18,
   "outputs": []
  },
  {
   "cell_type": "markdown",
   "metadata": {
    "id": "uNUTDs9PkRj2"
   },
   "source": [
    "## 模型讀檔"
   ]
  },
  {
   "cell_type": "code",
   "metadata": {
    "id": "bh5CkuNfkQ2y",
    "executionInfo": {
     "status": "ok",
     "timestamp": 1637575142025,
     "user_tz": -480,
     "elapsed": 5,
     "user": {
      "displayName": "林彥瑞",
      "photoUrl": "https://lh3.googleusercontent.com/a-/AOh14GjhMrPvenFD6efEUbm0-9XMLi-VM9HiMcUngiO3jA=s64",
      "userId": "13637493638608463960"
     }
    }
   },
   "source": [
    "def load_model(model, model_path: str, device: torch.device):\n",
    "\n",
    "    max_avg_f1_score = 0.0\n",
    "    \n",
    "    if Path(model_path).is_file():\n",
    "        \n",
    "        if device == 'cpu':\n",
    "            model_dict = torch.load(model_path, map_location=torch.device('cpu'))\n",
    "        else:\n",
    "            model_dict = torch.load(model_path, map_location=torch.device(device))\n",
    "        try:\n",
    "            model.load_state_dict(model_dict.get('model_state'))\n",
    "            max_avg_f1_score = float(model_dict.get('max_avg_f1_score'))\n",
    "        except Exception as e:\n",
    "            print(f'Error Message:{e}')\n",
    "            model.load_state_dict(model_dict.state_dict())\n",
    "\n",
    "    model.to(device = device)\n",
    "    return model, max_avg_f1_score"
   ],
   "execution_count": 19,
   "outputs": []
  },
  {
   "cell_type": "markdown",
   "metadata": {
    "id": "bu_FDbuSXAgo"
   },
   "source": [
    "# 建立模型訓練用函數\n",
    "- 損失函數\n",
    "- 優化器\n",
    "- 學習率\n"
   ]
  },
  {
   "cell_type": "code",
   "metadata": {
    "colab": {
     "base_uri": "https://localhost:8080/"
    },
    "id": "U6i7F-oZXB9E",
    "executionInfo": {
     "status": "ok",
     "timestamp": 1637575142025,
     "user_tz": -480,
     "elapsed": 5,
     "user": {
      "displayName": "林彥瑞",
      "photoUrl": "https://lh3.googleusercontent.com/a-/AOh14GjhMrPvenFD6efEUbm0-9XMLi-VM9HiMcUngiO3jA=s64",
      "userId": "13637493638608463960"
     }
    },
    "outputId": "ba433e18-1d81-4a84-8177-d6c91e05d299"
   },
   "source": [
    "from torch.optim import lr_scheduler, Adam\n",
    "\n",
    "criterion = torch.nn.CrossEntropyLoss()\n",
    "optimizer = Adam(model.parameters(), lr=0.0001, )\n",
    "learning_rate = lr_scheduler.StepLR(optimizer, step_size=5, gamma=0.99)\n",
    "\n",
    "print(criterion)\n",
    "print(optimizer)\n",
    "print(learning_rate.get_last_lr())"
   ],
   "execution_count": 20,
   "outputs": [
    {
     "output_type": "stream",
     "name": "stdout",
     "text": [
      "CrossEntropyLoss()\n",
      "Adam (\n",
      "Parameter Group 0\n",
      "    amsgrad: False\n",
      "    betas: (0.9, 0.999)\n",
      "    eps: 1e-08\n",
      "    initial_lr: 0.0001\n",
      "    lr: 0.0001\n",
      "    weight_decay: 0\n",
      ")\n",
      "[0.0001]\n"
     ]
    }
   ]
  },
  {
   "cell_type": "markdown",
   "metadata": {
    "id": "BzyQl_CFcPK0"
   },
   "source": [
    "# 開始訓練"
   ]
  },
  {
   "cell_type": "code",
   "metadata": {
    "id": "mXkyJ01hcPZm"
   },
   "source": [
    "model, max_avg_f1_score = load_model(model, model_path = f'{model_path}/model_weight.pkl', device = device_setter())\n",
    "\n",
    "epoch = 1\n",
    "\n",
    "train(trainset_loader = trainset_loader, \n",
    "      validset_loader = validset_loader, \n",
    "      testset_loader = testset_loader, \n",
    "      model = model, \n",
    "      criterion = criterion, \n",
    "      optimizer = optimizer, \n",
    "      learning_rate = learning_rate, \n",
    "      epoch = epoch, \n",
    "      device = device_setter(),\n",
    "      max_avg_f1_score = max_avg_f1_score,\n",
    "      model_path = model_path\n",
    "      )"
   ],
   "execution_count": null,
   "outputs": []
  },
  {
   "cell_type": "code",
   "metadata": {
    "colab": {
     "base_uri": "https://localhost:8080/",
     "height": 1000
    },
    "id": "nXZq6q1U3BMo",
    "executionInfo": {
     "status": "ok",
     "timestamp": 1637577115952,
     "user_tz": -480,
     "elapsed": 3461,
     "user": {
      "displayName": "林彥瑞",
      "photoUrl": "https://lh3.googleusercontent.com/a-/AOh14GjhMrPvenFD6efEUbm0-9XMLi-VM9HiMcUngiO3jA=s64",
      "userId": "13637493638608463960"
     }
    },
    "outputId": "da68a631-3809-4943-a62b-8ffd1af8670a"
   },
   "source": [
    "eval_model(validset_loader, model, criterion, device_setter())"
   ],
   "execution_count": 37,
   "outputs": [
    {
     "output_type": "stream",
     "name": "stdout",
     "text": [
      "tensor([[0.2013, 0.3251, 0.4737],\n",
      "        [0.1747, 0.2943, 0.5311],\n",
      "        [0.1264, 0.5332, 0.3404],\n",
      "        [0.3187, 0.3600, 0.3213]])\n",
      "tensor([1, 1, 2, 0])\n",
      "tensor([0.4737, 0.5311, 0.5332, 0.3600])\n",
      "tensor([2, 2, 1, 1])\n",
      "tensor([[0.2226, 0.2546, 0.5228],\n",
      "        [0.1588, 0.4172, 0.4239],\n",
      "        [0.4381, 0.2760, 0.2859],\n",
      "        [0.3563, 0.4002, 0.2435]])\n",
      "tensor([1, 1, 0, 0])\n",
      "tensor([0.5228, 0.4239, 0.4381, 0.4002])\n",
      "tensor([2, 2, 0, 1])\n",
      "tensor([[0.2004, 0.4716, 0.3281],\n",
      "        [0.4307, 0.2855, 0.2838],\n",
      "        [0.5764, 0.1536, 0.2699],\n",
      "        [0.5048, 0.2256, 0.2697]])\n",
      "tensor([2, 0, 0, 0])\n",
      "tensor([0.4716, 0.4307, 0.5764, 0.5048])\n",
      "tensor([1, 0, 0, 0])\n",
      "tensor([[0.2957, 0.2841, 0.4201],\n",
      "        [0.1993, 0.3988, 0.4019],\n",
      "        [0.1314, 0.5097, 0.3589],\n",
      "        [0.4233, 0.3193, 0.2574]])\n",
      "tensor([1, 2, 2, 0])\n",
      "tensor([0.4201, 0.4019, 0.5097, 0.4233])\n",
      "tensor([2, 2, 1, 0])\n",
      "tensor([[0.3931, 0.3344, 0.2726],\n",
      "        [0.1454, 0.5401, 0.3145],\n",
      "        [0.1487, 0.2805, 0.5708],\n",
      "        [0.5994, 0.2160, 0.1845]])\n",
      "tensor([0, 2, 1, 0])\n",
      "tensor([0.3931, 0.5401, 0.5708, 0.5994])\n",
      "tensor([0, 1, 2, 0])\n",
      "0 auc_roc: 1.00000\n",
      "1 auc_roc: 0.38095\n",
      "2 auc_roc: 0.58667\n",
      "Metrics\n",
      "              precision    recall  f1-score   support\n",
      "\n",
      "     monitor     1.0000    0.7778    0.8750         9\n",
      "       mouse     0.0000    0.0000    0.0000         6\n",
      "         mug     0.1429    0.2000    0.1667         5\n",
      "\n",
      "    accuracy                         0.4000        20\n",
      "   macro avg     0.3810    0.3259    0.3472        20\n",
      "weighted avg     0.4857    0.4000    0.4354        20\n",
      "\n",
      " Confusion matrix\n",
      "[[7 2 0]\n",
      " [0 0 6]\n",
      " [0 4 1]]\n",
      " Average auroc: 0.6558730158730158\n",
      " Average f1-score: 0.34722222222222227\n",
      "\n"
     ]
    },
    {
     "output_type": "display_data",
     "data": {
      "image/png": "[encoded data removed]",
      "text/plain": [
       "<Figure size 288x288 with 1 Axes>"
      ]
     },
     "metadata": {
      "needs_background": "light"
     }
    },
    {
     "output_type": "execute_result",
     "data": {
      "text/plain": [
       "('              precision    recall  f1-score   support\\n\\n     monitor     1.0000    0.7778    0.8750         9\\n       mouse     0.0000    0.0000    0.0000         6\\n         mug     0.1429    0.2000    0.1667         5\\n\\n    accuracy                         0.4000        20\\n   macro avg     0.3810    0.3259    0.3472        20\\nweighted avg     0.4857    0.4000    0.4354        20\\n',\n",
       " array([[7, 2, 0],\n",
       "        [0, 0, 6],\n",
       "        [0, 4, 1]]),\n",
       " 0.6558730158730158,\n",
       " 0.34722222222222227,\n",
       " 0.9893389463424682)"
      ]
     },
     "metadata": {},
     "execution_count": 37
    },
    {
     "output_type": "display_data",
     "data": {
      "image/png": "[encoded data removed]",
      "text/plain": [
       "<Figure size 432x288 with 1 Axes>"
      ]
     },
     "metadata": {
      "needs_background": "light"
     }
    },
    {
     "output_type": "display_data",
     "data": {
      "image/png": "[encoded data removed]",
      "text/plain": [
       "<Figure size 432x288 with 1 Axes>"
      ]
     },
     "metadata": {
      "needs_background": "light"
     }
    }
   ]
  },
  {
   "cell_type": "markdown",
   "metadata": {
    "id": "XaHc6VdgGQWP"
   },
   "source": [
    "# 查看 heatmap"
   ]
  },
  {
   "cell_type": "code",
   "metadata": {
    "id": "svUHb2ujCFfd",
    "executionInfo": {
     "status": "ok",
     "timestamp": 1637575171529,
     "user_tz": -480,
     "elapsed": 4,
     "user": {
      "displayName": "林彥瑞",
      "photoUrl": "https://lh3.googleusercontent.com/a-/AOh14GjhMrPvenFD6efEUbm0-9XMLi-VM9HiMcUngiO3jA=s64",
      "userId": "13637493638608463960"
     }
    }
   },
   "source": [
    "def get_heatmap(model: nn.Module, input_img: torch.Tensor) -> torch.Tensor:\n",
    "  get_model_before_linear_layer = nn.Sequential(*list(model.children())[:-2])\n",
    "  return get_model_before_linear_layer(input_img)"
   ],
   "execution_count": 23,
   "outputs": []
  },
  {
   "cell_type": "code",
   "metadata": {
    "id": "heO2zXSrCnsc",
    "executionInfo": {
     "status": "ok",
     "timestamp": 1637575171987,
     "user_tz": -480,
     "elapsed": 461,
     "user": {
      "displayName": "林彥瑞",
      "photoUrl": "https://lh3.googleusercontent.com/a-/AOh14GjhMrPvenFD6efEUbm0-9XMLi-VM9HiMcUngiO3jA=s64",
      "userId": "13637493638608463960"
     }
    }
   },
   "source": [
    "import PIL.Image as PILImage\n",
    "\n",
    "pil_img = PILImage.open('/content/drive/MyDrive/lesson_dataset/monitor/frame_0001.jpg')\n",
    "tensor_img = transforms.ToTensor()(pil_img)\n",
    "tensor_img_with_batch_shape = tensor_img.unsqueeze(0)\n"
   ],
   "execution_count": 24,
   "outputs": []
  },
  {
   "cell_type": "markdown",
   "metadata": {
    "id": "qZt5EZi9GW3x"
   },
   "source": [
    "## 訓練過的模型"
   ]
  },
  {
   "cell_type": "code",
   "metadata": {
    "colab": {
     "base_uri": "https://localhost:8080/",
     "height": 301
    },
    "id": "exlsvYJEDHxt",
    "executionInfo": {
     "status": "ok",
     "timestamp": 1637575334277,
     "user_tz": -480,
     "elapsed": 2762,
     "user": {
      "displayName": "林彥瑞",
      "photoUrl": "https://lh3.googleusercontent.com/a-/AOh14GjhMrPvenFD6efEUbm0-9XMLi-VM9HiMcUngiO3jA=s64",
      "userId": "13637493638608463960"
     }
    },
    "outputId": "e12d2ec2-8669-4d6d-fd97-ff4cc8107407"
   },
   "source": [
    "hm_img = get_heatmap(model = model, input_img = tensor_img_with_batch_shape)\n",
    "\n",
    "import scipy.ndimage\n",
    "\n",
    "hm_img = hm_img.detach().numpy().transpose(0, 2, 3, 1)\n",
    "print(hm_img.shape)\n",
    "\n",
    "hm_zoom_in = scipy.ndimage.zoom(hm_img, 2, order=2)\n",
    "plt.imshow(np.sum(hm_zoom_in[0], axis=2))"
   ],
   "execution_count": 31,
   "outputs": [
    {
     "output_type": "stream",
     "name": "stdout",
     "text": [
      "(1, 17, 17, 512)\n"
     ]
    },
    {
     "output_type": "execute_result",
     "data": {
      "text/plain": [
       "<matplotlib.image.AxesImage at 0x7f6e3dcd4d10>"
      ]
     },
     "metadata": {},
     "execution_count": 31
    },
    {
     "output_type": "display_data",
     "data": {
      "image/png": "[encoded data removed]",
      "text/plain": [
       "<Figure size 432x288 with 1 Axes>"
      ]
     },
     "metadata": {
      "needs_background": "light"
     }
    }
   ]
  },
  {
   "cell_type": "markdown",
   "metadata": {
    "id": "NDmNLyrKGTRx"
   },
   "source": [
    "## 未經訓練的模型"
   ]
  },
  {
   "cell_type": "code",
   "metadata": {
    "colab": {
     "base_uri": "https://localhost:8080/",
     "height": 301
    },
    "id": "J3s4RI2jF5mJ",
    "executionInfo": {
     "status": "ok",
     "timestamp": 1637575321146,
     "user_tz": -480,
     "elapsed": 3614,
     "user": {
      "displayName": "林彥瑞",
      "photoUrl": "https://lh3.googleusercontent.com/a-/AOh14GjhMrPvenFD6efEUbm0-9XMLi-VM9HiMcUngiO3jA=s64",
      "userId": "13637493638608463960"
     }
    },
    "outputId": "813fcf03-0f2a-4a09-cde4-7b5aea9dfc3b"
   },
   "source": [
    "original_model = resnet.resnet18(pretrained=True).to(device = device_setter())\n",
    "model.fc = nn.Linear(original_model.fc.in_features, 3)\n",
    "\n",
    "hm_img = get_heatmap(model = original_model, input_img = tensor_img_with_batch_shape)\n",
    "\n",
    "hm_img = hm_img.detach().numpy().transpose(0, 2, 3, 1)\n",
    "print(hm_img.shape)\n",
    "\n",
    "hm_zoom_in = scipy.ndimage.zoom(hm_img, 2, order=2)\n",
    "plt.imshow(np.sum(hm_zoom_in[0], axis=2))"
   ],
   "execution_count": 28,
   "outputs": [
    {
     "output_type": "stream",
     "name": "stdout",
     "text": [
      "(1, 17, 17, 512)\n"
     ]
    },
    {
     "output_type": "execute_result",
     "data": {
      "text/plain": [
       "<matplotlib.image.AxesImage at 0x7f6e3ddaac90>"
      ]
     },
     "metadata": {},
     "execution_count": 28
    },
    {
     "output_type": "display_data",
     "data": {
      "image/png": "[encoded data removed]",
      "text/plain": [
       "<Figure size 432x288 with 1 Axes>"
      ]
     },
     "metadata": {
      "needs_background": "light"
     }
    }
   ]
  }
 ]
}